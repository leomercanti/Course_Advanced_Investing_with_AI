{
  "nbformat": 4,
  "nbformat_minor": 0,
  "metadata": {
    "colab": {
      "provenance": [],
      "authorship_tag": "ABX9TyMIny6fBS/YTosJuW74gvES",
      "include_colab_link": true
    },
    "kernelspec": {
      "name": "python3",
      "display_name": "Python 3"
    },
    "language_info": {
      "name": "python"
    }
  },
  "cells": [
    {
      "cell_type": "markdown",
      "metadata": {
        "id": "view-in-github",
        "colab_type": "text"
      },
      "source": [
        "<a href=\"https://colab.research.google.com/github/leomercanti/Course_Advanced_Investing_with_AI/blob/main/Module_1_Foundations_of_AI_in_Finance.ipynb\" target=\"_parent\"><img src=\"https://colab.research.google.com/assets/colab-badge.svg\" alt=\"Open In Colab\"/></a>"
      ]
    },
    {
      "cell_type": "markdown",
      "source": [
        "# **Course: Advanced Investing with AI**\n",
        "\n",
        "## Module 1: Foundations of AI in Finance"
      ],
      "metadata": {
        "id": "z83C079Gu5yQ"
      }
    },
    {
      "cell_type": "markdown",
      "source": [
        "### 1.1 Recommended Readings and Resources\n",
        "\n",
        "- **Textbook:** \"Advances in Financial Machine Learning\" by Marcos López de Prado\n",
        "Chapters 1-3: This will give you a foundation on applying machine learning to financial data. You’ll explore data structures used in finance, labeling financial data for AI training, and the concept of overfitting in financial ML models.\n",
        "\n",
        "- **Research Papers:** “Financial Markets Regime Detection with AI” – Provides insights into classifying different market conditions using ML.\n",
        "“The Role of Machine Learning in Asset Pricing Models” – Useful for understanding how AI enhances classical financial models.\n",
        "\n",
        "- **Optional:** “Machine Learning for Asset Managers” by Marcos López de Prado: This will guide you through practical applications of machine learning models in portfolio management."
      ],
      "metadata": {
        "id": "CZqfMJgMwJj6"
      }
    },
    {
      "cell_type": "markdown",
      "source": [
        "### 1.2 Key Topics Overview\n",
        "\n",
        "**Supervised Learning in Finance:**\n",
        "- ***Regression Models:*** Learn how linear and non-linear models (e.g., Random Forest, Gradient Boosting) predict asset prices.\n",
        "- ***Classification Models:*** Classifying market regimes (e.g., bullish, bearish) using logistic regression, decision trees, or ensemble models.\n",
        "- ***Hands-On Example:*** Predicting Stock Price Movements\n",
        "Use random forests to predict stock price direction based on historical features (moving averages, technical indicators)."
      ],
      "metadata": {
        "id": "mGb5RalnwSo4"
      }
    },
    {
      "cell_type": "code",
      "execution_count": null,
      "metadata": {
        "id": "1vgjts1Su4eJ"
      },
      "outputs": [],
      "source": [
        "from sklearn.model_selection import train_test_split\n",
        "from sklearn.ensemble import RandomForestClassifier\n",
        "import yfinance as yf"
      ]
    },
    {
      "cell_type": "code",
      "source": [
        "# Fetch historical stock data (Apple example)\n",
        "data = yf.download('AAPL', start='2019-09-01', end='2024-09-01')"
      ],
      "metadata": {
        "id": "qtl9iqeuw29H"
      },
      "execution_count": null,
      "outputs": []
    },
    {
      "cell_type": "code",
      "source": [
        "# Feature engineering: Adding moving averages\n",
        "data['SMA_50'] = data['Close'].rolling(window=50).mean()\n",
        "data['SMA_200'] = data['Close'].rolling(window=200).mean()"
      ],
      "metadata": {
        "id": "BUvkKEhHw9aW"
      },
      "execution_count": null,
      "outputs": []
    },
    {
      "cell_type": "code",
      "source": [
        "# Target variable: 1 if price increases the next day, 0 otherwise\n",
        "data['Target'] = (data['Close'].shift(-1) > data['Close']).astype(int)"
      ],
      "metadata": {
        "id": "ux5MdWXjw_0x"
      },
      "execution_count": null,
      "outputs": []
    },
    {
      "cell_type": "code",
      "source": [
        "# Drop NaNs and prepare features/target\n",
        "data.dropna(inplace=True)\n",
        "X = data[['SMA_50', 'SMA_200']]\n",
        "y = data['Target']"
      ],
      "metadata": {
        "id": "Krj-sLMnxB2_"
      },
      "execution_count": null,
      "outputs": []
    },
    {
      "cell_type": "code",
      "source": [
        "# Split data\n",
        "X_train, X_test, y_train, y_test = train_test_split(X, y, test_size=0.2, random_state=42)"
      ],
      "metadata": {
        "id": "GEIiFOptxDxg"
      },
      "execution_count": null,
      "outputs": []
    },
    {
      "cell_type": "code",
      "source": [
        "# Train random forest model\n",
        "clf = RandomForestClassifier(n_estimators=100, random_state=42)\n",
        "clf.fit(X_train, y_train)"
      ],
      "metadata": {
        "id": "l5CHPjR2xFTj"
      },
      "execution_count": null,
      "outputs": []
    },
    {
      "cell_type": "code",
      "source": [
        "# Model performance\n",
        "accuracy = clf.score(X_test, y_test)\n",
        "print(f\"Model Accuracy: {accuracy:.2f}\")"
      ],
      "metadata": {
        "id": "Vgi6WU6XxHON"
      },
      "execution_count": null,
      "outputs": []
    },
    {
      "cell_type": "markdown",
      "source": [
        "**Unsupervised Learning for Financial Clustering:**\n",
        "\n",
        "- ***K-Means Clustering:*** Group similar stocks based on technical or fundamental metrics (e.g., volatility, returns).\n",
        "- ***Dimensionality Reduction (PCA):*** Reduce complex datasets into lower dimensions to detect patterns in market dynamics.\n",
        "- ***Hands-On Example:*** Clustering Stocks Based on Returns and Volatility"
      ],
      "metadata": {
        "id": "Tx8c6_XLxwb1"
      }
    },
    {
      "cell_type": "code",
      "source": [
        "from sklearn.cluster import KMeans\n",
        "import matplotlib.pyplot as plt\n",
        "import numpy as np"
      ],
      "metadata": {
        "id": "oclnTjShyI_c"
      },
      "execution_count": null,
      "outputs": []
    },
    {
      "cell_type": "code",
      "source": [
        "# Stock symbols\n",
        "tickers = ['AAPL', 'GOOGL', 'AMZN', 'MSFT', 'TSLA']"
      ],
      "metadata": {
        "id": "nxULVo-vyNmU"
      },
      "execution_count": null,
      "outputs": []
    },
    {
      "cell_type": "code",
      "source": [
        "# Download data\n",
        "data2 = yf.download(tickers, start='2021-01-01', end='2024-09-01')['Adj Close'].pct_change().dropna()"
      ],
      "metadata": {
        "id": "iuZzWuhxyP21"
      },
      "execution_count": null,
      "outputs": []
    },
    {
      "cell_type": "code",
      "source": [
        "# Check column names to find the correct name for the close price\n",
        "print(data2.columns)"
      ],
      "metadata": {
        "id": "_CK78iUwZMQj"
      },
      "execution_count": null,
      "outputs": []
    },
    {
      "cell_type": "code",
      "source": [
        "# Calculate volatility (std) and returns (mean) for each stock\n",
        "volatility = data2.std() * np.sqrt(252)  # Annualized volatility\n",
        "returns = data2.mean() * 252  # Annualized returns"
      ],
      "metadata": {
        "id": "DBDT1vcayRmT"
      },
      "execution_count": null,
      "outputs": []
    },
    {
      "cell_type": "code",
      "source": [
        "# Stack data for clustering\n",
        "X = np.column_stack([returns, volatility])"
      ],
      "metadata": {
        "id": "KQAUInQ9yTDy"
      },
      "execution_count": null,
      "outputs": []
    },
    {
      "cell_type": "code",
      "source": [
        "# KMeans clustering\n",
        "kmeans = KMeans(n_clusters=3, random_state=42)\n",
        "clusters = kmeans.fit_predict(X)"
      ],
      "metadata": {
        "id": "V1I733XyyVcZ"
      },
      "execution_count": null,
      "outputs": []
    },
    {
      "cell_type": "code",
      "source": [
        "# Plot the clusters\n",
        "plt.scatter(returns, volatility, c=clusters)\n",
        "plt.xlabel('Annualized Returns')\n",
        "plt.ylabel('Annualized Volatility')\n",
        "plt.title('Stock Clustering based on Returns and Volatility')\n",
        "plt.show()\n"
      ],
      "metadata": {
        "id": "3jAPVbl7yXBt"
      },
      "execution_count": null,
      "outputs": []
    },
    {
      "cell_type": "markdown",
      "source": [
        "### 1.3 Financial Data Acquisition and Preprocessing\n",
        "\n",
        "**Data Sources:**\n",
        "\n",
        "- ***Yahoo Finance*** (for stock prices, technical indicators)\n",
        "- ***Quandl*** (for macroeconomic indicators, alternative data)\n",
        "- ***Alpha Vantage*** (for real-time data and technical analysis)\n",
        "\n",
        "**Key Financial Metrics:**\n",
        "\n",
        "- ***Returns:*** Daily/annualized returns, moving averages.\n",
        "- ***Volatility:*** Calculated using standard deviation over time windows (e.g., 30, 60 days).\n",
        "- ***Technical Indicators:*** Moving Averages (SMA, EMA), Bollinger Bands, RSI, MACD.\n",
        "- ***Hands-On Example:*** Using Yahoo Finance to Fetch and Clean Financial Data"
      ],
      "metadata": {
        "id": "DQ5iXWPMyYxj"
      }
    },
    {
      "cell_type": "code",
      "source": [
        "import yfinance as yf\n",
        "import pandas as pd"
      ],
      "metadata": {
        "id": "6OU3G8UryyBN"
      },
      "execution_count": null,
      "outputs": []
    },
    {
      "cell_type": "code",
      "source": [
        "# Download historical data for multiple stocks\n",
        "tickers = ['AAPL', 'MSFT', 'GOOGL', 'AMZN', 'TSLA']\n",
        "data3 = yf.download(tickers, start='2021-01-01', end='2024-09-01')['Adj Close']"
      ],
      "metadata": {
        "id": "GqobQXVfy08x"
      },
      "execution_count": null,
      "outputs": []
    },
    {
      "cell_type": "code",
      "source": [
        "# Calculate daily returns\n",
        "returns = data3.pct_change().dropna()"
      ],
      "metadata": {
        "id": "ydiv3318y2ek"
      },
      "execution_count": null,
      "outputs": []
    },
    {
      "cell_type": "code",
      "source": [
        "# Simple moving average example\n",
        "data3['SMA_50'] = data2['AAPL'].rolling(window=50).mean()"
      ],
      "metadata": {
        "id": "z2ZVciQiy34R"
      },
      "execution_count": null,
      "outputs": []
    },
    {
      "cell_type": "code",
      "source": [
        "# Technical indicator (Relative Strength Index - RSI)\n",
        "window = 14\n",
        "delta = data3['AAPL'].diff(1)\n",
        "gain = (delta.where(delta > 0, 0)).rolling(window=window).mean()\n",
        "loss = (-delta.where(delta < 0, 0)).rolling(window=window).mean()\n",
        "rs = gain / loss\n",
        "data2['RSI'] = 100 - (100 / (1 + rs))"
      ],
      "metadata": {
        "id": "hCRfiiLsy6Y8"
      },
      "execution_count": null,
      "outputs": []
    },
    {
      "cell_type": "code",
      "source": [
        "# Inspect data\n",
        "print(data3.tail())"
      ],
      "metadata": {
        "id": "Az7o8Osky8YC"
      },
      "execution_count": null,
      "outputs": []
    },
    {
      "cell_type": "markdown",
      "source": [
        "### 1.4 Building Predictive Models to Detect Market Regimes\n",
        "\n",
        "**Market Regime Detection:**\n",
        "- ***Classify the market*** into bullish, bearish, or sideways trends using classification models like logistic regression or decision trees.\n",
        "- ***Train models*** using technical indicators (e.g., moving averages, volatility) as features.\n",
        "- ***Hands-On Example:*** Market Regime Classification Using Decision Trees"
      ],
      "metadata": {
        "id": "oUm9iQyYzDJG"
      }
    },
    {
      "cell_type": "code",
      "source": [
        "from sklearn.tree import DecisionTreeClassifier\n",
        "import numpy as np"
      ],
      "metadata": {
        "id": "zsOil9p-zd77"
      },
      "execution_count": null,
      "outputs": []
    },
    {
      "cell_type": "code",
      "source": [
        "# Check column names to find the correct name for the close price\n",
        "# We will use the very first dataset imported on section 1.2\n",
        "print(data.columns)"
      ],
      "metadata": {
        "id": "l7ogC3CnYLjO"
      },
      "execution_count": null,
      "outputs": []
    },
    {
      "cell_type": "code",
      "source": [
        "# Define bullish and bearish regimes using moving averages\n",
        "data['Regime'] = np.where(data['SMA_50'] > data['SMA_200'], 1, 0)  # Bullish if SMA_50 > SMA_200"
      ],
      "metadata": {
        "id": "REeMIMbAzhhE"
      },
      "execution_count": null,
      "outputs": []
    },
    {
      "cell_type": "code",
      "source": [
        "# Features and target\n",
        "X = data[['SMA_50', 'SMA_200']].dropna()\n",
        "y = data['Regime'].dropna()"
      ],
      "metadata": {
        "id": "wInuMZYPzkPm"
      },
      "execution_count": null,
      "outputs": []
    },
    {
      "cell_type": "code",
      "source": [
        "# Split data into training and test sets\n",
        "X_train, X_test, y_train, y_test = train_test_split(X, y, test_size=0.3, random_state=42)"
      ],
      "metadata": {
        "id": "YFluMoeQzl0P"
      },
      "execution_count": null,
      "outputs": []
    },
    {
      "cell_type": "code",
      "source": [
        "# Train Decision Tree Classifier\n",
        "clf = DecisionTreeClassifier(random_state=42)\n",
        "clf.fit(X_train, y_train)"
      ],
      "metadata": {
        "id": "IktryQ-mznbM"
      },
      "execution_count": null,
      "outputs": []
    },
    {
      "cell_type": "code",
      "source": [
        "# Model accuracy\n",
        "accuracy = clf.score(X_test, y_test)\n",
        "print(f\"Model Accuracy: {accuracy:.2f}\")"
      ],
      "metadata": {
        "id": "_QqtLiZHzo6g"
      },
      "execution_count": null,
      "outputs": []
    },
    {
      "cell_type": "markdown",
      "source": [
        "### 1.5 End of Module Assignments and Practice (Optional)\n",
        "\n",
        "- ***Assignment 1:*** Download stock data from multiple companies and calculate various technical indicators (RSI, MACD, Moving Averages). Perform feature engineering to create meaningful input data for machine learning models.\n",
        "\n",
        "- ***Assignment 2:*** Implement a market regime classifier using decision trees or random forests, and evaluate model performance. Experiment with different feature sets (e.g., volatility, returns) and hyperparameters.\n",
        "\n",
        "- ***Assignment 3:*** Apply K-Means clustering to group stocks into clusters based on returns, volatility, and other financial metrics. Analyze the results and adjust the number of clusters."
      ],
      "metadata": {
        "id": "i2O6-Kgtzqsg"
      }
    },
    {
      "cell_type": "markdown",
      "source": [
        "By the end of this Module 1, you should be familiar with acquiring financial data, performing feature engineering, and building simple machine learning models to detect trends or regimes in the stock market. This will set the stage for more advanced AI techniques (e.g., deep learning, reinforcement learning) in the following weeks."
      ],
      "metadata": {
        "id": "t5kg1H3p0ARk"
      }
    }
  ]
}