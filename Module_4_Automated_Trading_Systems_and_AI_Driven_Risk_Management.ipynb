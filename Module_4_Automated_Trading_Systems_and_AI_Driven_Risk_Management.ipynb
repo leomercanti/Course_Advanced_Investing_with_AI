{
  "nbformat": 4,
  "nbformat_minor": 0,
  "metadata": {
    "colab": {
      "provenance": [],
      "authorship_tag": "ABX9TyO1xTd8n4vrjnSskJ5/TfuN",
      "include_colab_link": true
    },
    "kernelspec": {
      "name": "python3",
      "display_name": "Python 3"
    },
    "language_info": {
      "name": "python"
    }
  },
  "cells": [
    {
      "cell_type": "markdown",
      "metadata": {
        "id": "view-in-github",
        "colab_type": "text"
      },
      "source": [
        "<a href=\"https://colab.research.google.com/github/leomercanti/Course_Advanced_Investing_with_AI/blob/main/Module_4_Automated_Trading_Systems_and_AI_Driven_Risk_Management.ipynb\" target=\"_parent\"><img src=\"https://colab.research.google.com/assets/colab-badge.svg\" alt=\"Open In Colab\"/></a>"
      ]
    },
    {
      "cell_type": "markdown",
      "source": [
        "# **Module 4: Automated Trading Systems and AI-Driven Risk Management**\n",
        "\n",
        "If you havent checked our previous modules yet, you can find them on the links below:\n",
        "- [Module 1](https://colab.research.google.com/drive/15iRO6g-AyE2vGtdodh4xZ5RLmAcPcNV_)\n",
        "- [Module 2](https://colab.research.google.com/drive/1Xr_athUWZH3iKZ6ubzvPnEAN9lPnee-1)\n",
        "- [Module 3](https://colab.research.google.com/drive/1MwPrryj8q-DVMvuBhAOltWF5sdRVaBUq#scrollTo=WOPK7swfVHRb)\n",
        "\n",
        "\n",
        "<br>\n",
        "\n",
        "**Learning Goals:**\n",
        "- Design and implement end-to-end automated trading systems that can execute trades without manual intervention.\n",
        "- Combine supervised learning models (e.g., LSTMs for price prediction) with reinforcement learning agents to improve trading strategies.\n",
        "- Apply AI-driven risk management techniques to minimize drawdowns and manage portfolio risk.\n",
        "- Explore backtesting frameworks to evaluate and optimize trading strategies before deployment."
      ],
      "metadata": {
        "id": "doJgVWJUhdlu"
      }
    },
    {
      "cell_type": "markdown",
      "source": [
        "### 4.1 Core Readings and Resources\n",
        "\n",
        "- **Textbook:** \"Advances in Financial Machine Learning\" by Marcos López de Prado\n",
        "  - Chapter 8: Backtesting and Hyperparameter Optimization – Provides key insights into how to effectively backtest trading strategies and optimize machine learning models for finance.\n",
        "\n",
        "- **Research Papers:**\n",
        "  - “Artificial Intelligence in Algorithmic Trading” – Explores how AI technologies can be applied to build robust and adaptive trading systems.\n",
        "  - “Risk Management and Portfolio Optimization Using AI” – A comprehensive paper discussing how AI techniques can be used for dynamic risk management and portfolio optimization.\n",
        "\n",
        "- **Optional:**\n",
        "  - “Learning to Trade with Deep Reinforcement Learning” – This paper delves into the integration of reinforcement learning for trading, highlighting several algorithms that can be employed.\n"
      ],
      "metadata": {
        "id": "g81ppWMIiHRb"
      }
    },
    {
      "cell_type": "markdown",
      "source": [
        "### 4.2 Key Topics\n",
        "\n",
        "**Building Automated Trading Systems**\n",
        "\n",
        "- **Overview:** Automated trading systems (also called \"algorithmic trading\") allow traders to execute trades at a high frequency with reduced emotional bias. These systems make real-time decisions based on predefined rules or AI-driven insights, making them a perfect blend of machine learning and financial knowledge.\n",
        "\n",
        "- **Main Components:**\n",
        "  - **Signal Generation:** Using predictive models (e.g., LSTMs) or reinforcement learning agents to generate buy/sell signals.\n",
        "  - **Order Execution:** Sending trade orders to the market through APIs like Interactive Brokers API or Alpaca API.\n",
        "  - **Risk Management:** Using stop-loss, take-profit, and AI-based risk-adjusted strategies to protect the portfolio.\n",
        "\n",
        "- **Hands-On Example:** Building a Simple Automated Trading System"
      ],
      "metadata": {
        "id": "pdQtNSYxibrJ"
      }
    },
    {
      "cell_type": "code",
      "execution_count": null,
      "metadata": {
        "id": "gAr8k8f2hckJ"
      },
      "outputs": [],
      "source": [
        "import yfinance as yf\n",
        "import numpy as np\n",
        "import pandas as pd\n",
        "from sklearn.preprocessing import MinMaxScaler\n",
        "from keras.models import Sequential\n",
        "from keras.layers import LSTM, Dense\n",
        "# !pip install alpaca-trade-api\n",
        "# import alpaca_trade_api as tradeapi"
      ]
    },
    {
      "cell_type": "code",
      "source": [
        "# Download stock data\n",
        "data = yf.download(\"MSFT\", start=\"2016-01-01\", end=\"2024-09-01\")\n",
        "close_prices = data['Close'].values"
      ],
      "metadata": {
        "id": "ACN8FIjnnPFj"
      },
      "execution_count": null,
      "outputs": []
    },
    {
      "cell_type": "code",
      "source": [
        "# Quick data inspection\n",
        "data.head()"
      ],
      "metadata": {
        "id": "Ftjz3nKiqfSc"
      },
      "execution_count": null,
      "outputs": []
    },
    {
      "cell_type": "code",
      "source": [
        "# Scale data\n",
        "scaler = MinMaxScaler(feature_range=(0, 1))\n",
        "scaled_data = scaler.fit_transform(close_prices.reshape(-1, 1))"
      ],
      "metadata": {
        "id": "StsLxs4xnUmx"
      },
      "execution_count": null,
      "outputs": []
    },
    {
      "cell_type": "code",
      "source": [
        "# Prepare data for LSTM\n",
        "X_train, y_train = [], []\n",
        "sequence_length = 60\n",
        "for i in range(sequence_length, len(scaled_data)):\n",
        "    X_train.append(scaled_data[i-sequence_length:i, 0])\n",
        "    y_train.append(scaled_data[i, 0])\n",
        "X_train, y_train = np.array(X_train), np.array(y_train)\n",
        "X_train = np.reshape(X_train, (X_train.shape[0], X_train.shape[1], 1))"
      ],
      "metadata": {
        "id": "wGoDUqfnnYh7"
      },
      "execution_count": null,
      "outputs": []
    },
    {
      "cell_type": "code",
      "source": [
        "# Build LSTM model for signal generation\n",
        "model = Sequential()\n",
        "model.add(LSTM(units=50, return_sequences=True, input_shape=(X_train.shape[1], 1)))\n",
        "model.add(LSTM(units=50))\n",
        "model.add(Dense(units=1))  # Predict next closing price\n",
        "model.compile(optimizer='adam', loss='mean_squared_error')\n",
        "model.fit(X_train, y_train, epochs=10, batch_size=32)"
      ],
      "metadata": {
        "id": "mmi6yrnznbM6"
      },
      "execution_count": null,
      "outputs": []
    },
    {
      "cell_type": "code",
      "source": [
        "# Use Alpaca API to execute orders\n",
        "api = tradeapi.REST('your-api-key', 'your-secret-key', base_url='https://paper-api.alpaca.markets')"
      ],
      "metadata": {
        "id": "q_QbYa25neit"
      },
      "execution_count": null,
      "outputs": []
    },
    {
      "cell_type": "code",
      "source": [
        "# Automated trading logic\n",
        "def trade_stock():\n",
        "    latest_price = yf.download(\"MSFT\", period='1d')['Close'].iloc[-1]\n",
        "    prediction = model.predict(np.array(latest_price).reshape(1, 60, 1))\n",
        "\n",
        "    if prediction > latest_price:\n",
        "        api.submit_order(symbol=\"MSFT\", qty=10, side=\"buy\", type=\"market\", time_in_force=\"gtc\")\n",
        "    else:\n",
        "        api.submit_order(symbol=\"MSFT\", qty=10, side=\"sell\", type=\"market\", time_in_force=\"gtc\")"
      ],
      "metadata": {
        "id": "jZ2Qah3inibq"
      },
      "execution_count": null,
      "outputs": []
    },
    {
      "cell_type": "code",
      "source": [
        "# Schedule trade execution (e.g., every hour)\n",
        "import schedule\n",
        "import time\n",
        "\n",
        "schedule.every().hour.do(trade_stock)\n",
        "\n",
        "while True:\n",
        "    schedule.run_pending()\n",
        "    time.sleep(1)"
      ],
      "metadata": {
        "id": "Np--8-aQnnVV"
      },
      "execution_count": null,
      "outputs": []
    },
    {
      "cell_type": "markdown",
      "source": [
        "**AI-Driven Risk Management**\n",
        "\n",
        "- **Overview:** Risk management is crucial in trading and portfolio optimization. AI-driven risk management leverages predictive models and reinforcement learning to dynamically adjust positions based on changing market conditions. This reduces exposure to large drawdowns and optimizes the risk-reward ratio of your portfolio.\n",
        "\n",
        "- **Key Techniques:**\n",
        "  - **Dynamic Position Sizing:** Adjusting the number of shares or contracts traded based on volatility and expected returns. Techniques like Kelly Criterion and risk parity are often used.\n",
        "  - **Stop-Loss and Take-Profit Strategies:** Using machine learning models to set optimal stop-loss and take-profit levels dynamically.\n",
        "  - **Value-at-Risk (VaR):** Applying machine learning to estimate the portfolio's risk, giving you a better understanding of potential losses.\n",
        "\n",
        "- **Hands-On Example:** Implementing AI-Driven Risk Management"
      ],
      "metadata": {
        "id": "C9zjUigbnqu5"
      }
    },
    {
      "cell_type": "code",
      "source": [
        "import numpy as np\n",
        "import pandas as pd\n",
        "import yfinance as yf\n",
        "from sklearn.ensemble import RandomForestRegressor"
      ],
      "metadata": {
        "id": "O2YlbD7Yn82j"
      },
      "execution_count": null,
      "outputs": []
    },
    {
      "cell_type": "code",
      "source": [
        "# Load historical data\n",
        "data = yf.download(\"MSFT\", start=\"2016-01-01\", end=\"2024-09-01\")"
      ],
      "metadata": {
        "id": "BSzSAyl0n_ZA"
      },
      "execution_count": null,
      "outputs": []
    },
    {
      "cell_type": "code",
      "source": [
        "# Calculate technical indicators\n",
        "data['SMA'] = data['Close'].rolling(window=50).mean()\n",
        "data['Volatility'] = data['Close'].rolling(window=50).std()"
      ],
      "metadata": {
        "id": "9a1qdWe0oDOl"
      },
      "execution_count": null,
      "outputs": []
    },
    {
      "cell_type": "code",
      "source": [
        "# Prepare training data\n",
        "X = data[['SMA', 'Volatility']].dropna().values\n",
        "y = data['Close'][50:].values"
      ],
      "metadata": {
        "id": "YbROJBKcoE2N"
      },
      "execution_count": null,
      "outputs": []
    },
    {
      "cell_type": "code",
      "source": [
        "# Train Random Forest for risk prediction\n",
        "model = RandomForestRegressor(n_estimators=100)\n",
        "model.fit(X, y)"
      ],
      "metadata": {
        "id": "EqyQlpdyoGfK"
      },
      "execution_count": null,
      "outputs": []
    },
    {
      "cell_type": "code",
      "source": [
        "# Predict future risk\n",
        "latest_data = np.array([[data['SMA'].iloc[-1], data['Volatility'].iloc[-1]]])\n",
        "predicted_risk = model.predict(latest_data)\n",
        "\n",
        "print(f\"Predicted risk (next day's volatility): {predicted_risk[0]:.2f}\")"
      ],
      "metadata": {
        "id": "LzB25fzdoIB4"
      },
      "execution_count": null,
      "outputs": []
    },
    {
      "cell_type": "code",
      "source": [
        "# Define risk management rules based on predicted risk\n",
        "max_risk = 0.05  # 5% maximum allowable risk\n",
        "if predicted_risk[0] > max_risk:\n",
        "    print(\"Reduce position size or exit trade.\")\n",
        "else:\n",
        "    print(\"Safe to continue holding position.\")"
      ],
      "metadata": {
        "id": "Ul4TeQzZoKp_"
      },
      "execution_count": null,
      "outputs": []
    },
    {
      "cell_type": "markdown",
      "source": [
        "**Backtesting and Strategy Evaluation**\n",
        "\n",
        "- **Overview:** Before deploying any trading strategy, it is essential to backtest it on historical data to evaluate performance. This helps you understand how the strategy would have performed in the past and optimize the parameters for future trading.\n",
        "\n",
        "- **Key Concepts:**\n",
        "  - **Sharpe Ratio:** Measures the risk-adjusted return of a portfolio.\n",
        "  - **Max Drawdown:** The maximum loss from a peak to a trough in a portfolio’s value, indicating the risk level of the strategy.\n",
        "  - **Alpha and Beta:** Performance indicators that measure how well a strategy performs relative to the market.\n",
        "\n",
        "- **Hands-On Example:** Backtesting an AI Trading Strategy"
      ],
      "metadata": {
        "id": "3AFpinCWoMm7"
      }
    },
    {
      "cell_type": "code",
      "source": [
        "import backtrader as bt"
      ],
      "metadata": {
        "id": "QFsgFZ13obGr"
      },
      "execution_count": null,
      "outputs": []
    },
    {
      "cell_type": "code",
      "source": [
        "# Define a simple moving average strategy\n",
        "class SMA_Strategy(bt.Strategy):\n",
        "    def __init__(self):\n",
        "        self.sma = bt.indicators.SimpleMovingAverage(self.data.close, period=50)\n",
        "\n",
        "    def next(self):\n",
        "        if self.data.close > self.sma:\n",
        "            self.buy(size=10)\n",
        "        elif self.data.close < self.sma:\n",
        "            self.sell(size=10)"
      ],
      "metadata": {
        "id": "9qHBFnM7oe09"
      },
      "execution_count": null,
      "outputs": []
    },
    {
      "cell_type": "code",
      "source": [
        "# Initialize backtesting environment\n",
        "cerebro = bt.Cerebro()\n",
        "data = bt.feeds.YahooFinanceData(dataname=\"MSFT\", fromdate=pd.Timestamp(\"2016-01-01\"), todate=pd.Timestamp(\"2024-09-01\"))\n",
        "cerebro.adddata(data)\n",
        "cerebro.addstrategy(SMA_Strategy)"
      ],
      "metadata": {
        "id": "WKZFp0oZoguv"
      },
      "execution_count": null,
      "outputs": []
    },
    {
      "cell_type": "code",
      "source": [
        "# Run backtest\n",
        "cerebro.run()"
      ],
      "metadata": {
        "id": "QrW2ZdaLoi2P"
      },
      "execution_count": null,
      "outputs": []
    },
    {
      "cell_type": "code",
      "source": [
        "# Evaluate performance metrics\n",
        "final_portfolio_value = cerebro.broker.getvalue()\n",
        "print(f\"Final Portfolio Value: ${final_portfolio_value:.2f}\")"
      ],
      "metadata": {
        "id": "oNDPG2D3okjn"
      },
      "execution_count": null,
      "outputs": []
    },
    {
      "cell_type": "markdown",
      "source": [
        "### 4.3 Advanced Concepts: Integrating Reinforcement Learning with Automated Systems\n",
        "\n",
        "**Combining Supervised and Reinforcement Learning:**\n",
        "\n",
        "- **Hybrid Models:** Combining supervised models (e.g., LSTMs) for price prediction with reinforcement learning agents to manage portfolio allocation and risk.\n",
        "- **Execution:** Using price predictions as a signal for reinforcement learning agents to take actions like buying or selling assets, optimizing overall performance.\n",
        "\n",
        "**Risk-Aware RL:**\n",
        "\n",
        "- **Risk-Constrained RL:** Implement risk constraints into reinforcement learning algorithms by defining utility functions that penalize high-risk actions.\n",
        "- **Use Case:** A Deep Q-Learning agent that prioritizes low-volatility assets when market uncertainty increases."
      ],
      "metadata": {
        "id": "SkH9-gxOpOCA"
      }
    },
    {
      "cell_type": "markdown",
      "source": [
        "### 4.4 End of Module Assignments and Practice (Optional)\n",
        "\n",
        "- **Assignment 1:** Build an end-to-end automated trading system using reinforcement learning and backtest its performance on historical data. Incorporate risk management techniques like stop-loss and dynamic position sizing.\n",
        "\n",
        "- **Assignment 2:** Implement AI-driven risk management by predicting the next day's portfolio risk using machine learning models and adjust your portfolio allocation accordingly."
      ],
      "metadata": {
        "id": "wetq3yGfpirV"
      }
    },
    {
      "cell_type": "markdown",
      "source": [
        "By the end of this module, you have a solid understanding of how to build fully automated AI trading systems, combine reinforcement learning with predictive models, and apply AI techniques for dynamic risk management. You also gained experience in backtesting and evaluating strategies, setting the foundation for deploying AI-based systems in live financial markets.\n",
        "\n",
        "This knowledge prepares you for the final module, where you’ll explore the deployment and scaling of AI systems in real-world trading environments."
      ],
      "metadata": {
        "id": "zqRCsrpkpu45"
      }
    }
  ]
}